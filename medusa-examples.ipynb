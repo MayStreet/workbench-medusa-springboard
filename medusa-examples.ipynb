{
 "cells": [
  {
   "cell_type": "code",
   "execution_count": null,
   "metadata": {
    "collapsed": true
   },
   "outputs": [],
   "source": [
    "from datetime import datetime, timedelta\n",
    "from pandas import DataFrame\n",
    "from json import dumps\n",
    "\n",
    "from maystreet_data.api_client import ApiClient, ProvidedApiClientOptions\n",
    "\n",
    "# -- create an API client\n",
    "\n",
    "client = ApiClient()\n",
    "\n",
    "\n",
    "# -- how to get a list of all supported calls\n",
    "\n",
    "all_functions = client.get_functions()\n",
    "all_functions"
   ]
  },
  {
   "cell_type": "code",
   "execution_count": null,
   "metadata": {},
   "outputs": [],
   "source": [
    "# -- how to get information about a particular call\n",
    "\n",
    "?client.mrn.get_news_by_ric"
   ]
  },
  {
   "cell_type": "code",
   "execution_count": null,
   "metadata": {
    "collapsed": false
   },
   "outputs": [],
   "source": [
    "# -- how to call the Foundation API (MayStreet Data Lake)\n",
    "\n",
    "dt = '2020-01-02'\n",
    "product = 'AAPL'\n",
    "f = 'bats_edga'\n",
    "columns = ['f', 'dt', 'quantity']\n",
    "\n",
    "output_results = DataFrame(list(client.foundation.get_mt_trade(dt=dt, product=product, f=f, columns=columns)))\n",
    "output_results"
   ]
  },
  {
   "cell_type": "code",
   "execution_count": null,
   "metadata": {},
   "outputs": [],
   "source": [
    "# -- how to call a RTH function to create minute bars\n",
    "\n",
    "bars = DataFrame(\n",
    "    client.rth.create_minute_bars(\n",
    "        start_date='2020-11-23 00:00:00.000000',\n",
    "        finish_date='2020-11-23 23:59:59.999999',\n",
    "        bar_size_in_seconds=3600,\n",
    "    )\n",
    ")\n",
    "\n",
    "bars"
   ]
  },
  {
   "cell_type": "code",
   "execution_count": null,
   "metadata": {},
   "outputs": [],
   "source": [
    "# -- how to call a RTH function to get news sentiment data by a RIC\n",
    "\n",
    "start_date = '2019-01-08 12:00:11.000000'\n",
    "finish_date = '2019-01-08 13:00:11.000000'\n",
    "ric = 'IBM.DE'\n",
    "\n",
    "ibm_news_sentiments = DataFrame(list(client.mrn.get_news_sentiment_by_ric(start_date=start_date, finish_date=finish_date, ric=ric)))\n",
    "ibm_news_sentiments"
   ]
  },
  {
   "cell_type": "code",
   "execution_count": null,
   "metadata": {},
   "outputs": [],
   "source": [
    "# -- how to run a pure SQL query; note that each of the backend provides ('foundation', rth, and mrn) all have an 'exec' function which allows SQL execution.\n",
    "\n",
    "import maystreet_data\n",
    "\n",
    "records = DataFrame(list(client.rth.exec(sql=\"\"\"\n",
    "    SELECT\n",
    "        Date_Time,\n",
    "        RIC,\n",
    "        Bid_Price\n",
    "    FROM\n",
    "        `dbd-sdlc-prod.LSE_NORMALISED_5Y`.LSE_NORMALISED\n",
    "    WHERE\n",
    "        Date_Time BETWEEN '2020-11-23 15:00:00.000000' AND '2020-11-23 15:01:00.000000'\n",
    "        AND Bid_Price > 0\n",
    "    ORDER BY\n",
    "        Date_Time\n",
    "\"\"\",\n",
    ")))\n",
    "\n",
    "records"
   ]
  },
  {
   "cell_type": "code",
   "execution_count": null,
   "metadata": {
    "collapsed": false
   },
   "outputs": [],
   "source": [
    "# -- a larger example of getting news sentiments, and then getting data around the time of the news event\n",
    "\n",
    "start_date = '2019-01-08 12:00:11.000000'\n",
    "finish_date = '2019-01-08 13:00:11.000000'\n",
    "ric = 'IBM.DE'\n",
    "\n",
    "ibm_news_sentiments = list(\n",
    "    client.mrn.get_news_sentiment_by_ric(start_date=start_date, finish_date=finish_date, ric=ric))\n",
    "\n",
    "columns = ['ric', 'bid_price', 'bid_size', 'ask_price', 'ask_size', 'date_time', 'date_time_nano_fraction']\n",
    "\n",
    "for row in ibm_news_sentiments:\n",
    "    news_date = row['timestamp']\n",
    "    news_headline = row['news_headline']\n",
    "\n",
    "    target_date = datetime.strptime(news_date, \"%Y-%m-%dT%H:%M:%S.%fZ\")\n",
    "    news_start_date = target_date - timedelta(days=0, hours=0, minutes=5)\n",
    "    news_finish_date = target_date + timedelta(days=0, hours=0, minutes=5)\n",
    "\n",
    "    notified_row = False\n",
    "\n",
    "    print(\n",
    "        f\"'{news_headline}' @ '{news_date} | sentiment: positive: {row['sentiment_positive']}, negative: {row['sentiment_negative']}, neutral: {row['sentiment_neutral']}\")\n",
    "\n",
    "    trades_data = list(client.rth.get_ger_normalised_data(start_date=news_start_date, finish_date=news_finish_date,\n",
    "                                                          ric=ric,\n",
    "                                                          distinct=0,\n",
    "                                                          use_like_for_ids=False, columns=columns))\n",
    "\n",
    "    trades_data.sort(key=lambda r: r['date_time'])\n",
    "\n",
    "    for trade_row in trades_data:\n",
    "        trade_row_date = datetime.strptime(trade_row['date_time'], \"%Y-%m-%dT%H:%M:%S.%fZ\")\n",
    "        print(\n",
    "            f\"time: {trade_row['date_time']} | ask vol: {trade_row['ask_size']}, ask px: {trade_row['ask_price']}, bid vol: {trade_row['bid_size']}, bid px: {trade_row['bid_price']},  \")\n",
    "\n",
    "        if trade_row_date > target_date and not notified_row:\n",
    "            notified_row = True\n",
    "            print(' --- NEWS EVENT ---')\n",
    "\n",
    "    print('----------------------------------------------------------------------------------------------------')\n"
   ]
  }
 ],
 "metadata": {
  "kernelspec": {
   "display_name": "Python 3.8.10 ('.virtualenv': venv)",
   "language": "python",
   "name": "python3"
  },
  "language_info": {
   "codemirror_mode": {
    "name": "ipython",
    "version": 3
   },
   "file_extension": ".py",
   "mimetype": "text/x-python",
   "name": "python",
   "nbconvert_exporter": "python",
   "pygments_lexer": "ipython3",
   "version": "3.8.10"
  },
  "vscode": {
   "interpreter": {
    "hash": "0ea2b8895e81fdf91d242a88ba5aeb28630840827d8cbcc101eed9e19ad7d7de"
   }
  }
 },
 "nbformat": 4,
 "nbformat_minor": 0
}
